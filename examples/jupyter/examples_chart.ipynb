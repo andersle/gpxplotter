{
 "cells": [
  {
   "cell_type": "markdown",
   "metadata": {},
   "source": [
    "# Displaying charts\n",
    "This notebook will add a elevation chart as a popup."
   ]
  },
  {
   "cell_type": "code",
   "execution_count": null,
   "metadata": {},
   "outputs": [],
   "source": [
    "from gpxplotter import create_folium_map, read_gpx_file, add_segment_to_map\n",
    "import folium\n",
    "line_options = {'weight': 8}\n",
    "\n",
    "the_map = create_folium_map(tiles='openstreetmap')\n",
    "for track in read_gpx_file('example3.gpx'):\n",
    "    for i, segment in enumerate(track['segments']):\n",
    "        add_segment_to_map(the_map, segment, color_by='hr-zone-float',\n",
    "                           cmap='viridis', line_options=line_options)\n",
    "\n",
    "# To display the map in a Jupyter notebook:\n",
    "the_map"
   ]
  },
  {
   "cell_type": "code",
   "execution_count": null,
   "metadata": {},
   "outputs": [],
   "source": [
    "# Create a chart:\n",
    "import vincent\n",
    "import json\n",
    "import numpy as np\n",
    "\n",
    "idx = np.argmax(segment['elevation'])\n",
    "\n",
    "data = {\n",
    "    'x': segment['Distance / km'],\n",
    "    'y': segment['elevation'],\n",
    "}\n",
    "\n",
    "WIDTH = 400\n",
    "HEIGHT = 200\n",
    "\n",
    "\n",
    "line = vincent.Line(data, iter_idx=\"x\", width=WIDTH, height=HEIGHT)\n",
    "line.axis_titles(x='Distance / km', y='Elevation / m')\n",
    "line.x_axis_properties(title_offset=2)\n",
    "line.y_axis_properties(title_offset=-10)\n",
    "line_json = line.to_json()\n",
    "line_dict = json.loads(line_json)\n",
    "\n",
    "\n",
    "popup = folium.Popup(max_width=WIDTH+50, show=True)\n",
    "chart = folium.Vega(line_dict, width=WIDTH+50, height=HEIGHT+50)\n",
    "chart.add_to(popup)\n",
    "\n",
    "marker = folium.Marker(\n",
    "    location=segment['latlon'][idx],\n",
    "    popup=popup,\n",
    "    icon=folium.Icon(icon='star'),\n",
    ")\n",
    "marker.add_to(the_map)\n",
    "the_map"
   ]
  },
  {
   "cell_type": "code",
   "execution_count": null,
   "metadata": {},
   "outputs": [],
   "source": [
    "# Create a chart using altair:\n",
    "import altair as alt\n",
    "import pandas as pd"
   ]
  },
  {
   "cell_type": "code",
   "execution_count": null,
   "metadata": {},
   "outputs": [],
   "source": [
    "def smooth(signal, points):\n",
    "    \"\"\"Smooth the given signal using a rectangular window.\"\"\"\n",
    "    window = np.ones(points) / points\n",
    "    return np.convolve(signal, window, mode='same')\n",
    "\n",
    "data2 = pd.DataFrame(\n",
    "    {\n",
    "        'dist': segment['Distance / km'],\n",
    "        'elevation': segment['elevation'],\n",
    "        'heart': smooth(segment['hr'], 51),\n",
    "    }\n",
    ")"
   ]
  },
  {
   "cell_type": "code",
   "execution_count": null,
   "metadata": {},
   "outputs": [],
   "source": [
    "area1 = alt.Chart(data2).mark_area(fillOpacity=0.4, strokeWidth=5, line=True).encode(\n",
    "    x=alt.X('dist', title='Distance / km'),\n",
    "    y=alt.Y('elevation', title='Elevation / m'),\n",
    ")\n",
    "\n",
    "line2 = alt.Chart(data2).mark_line(strokeWidth=5).encode(\n",
    "    x=alt.X('dist', title='Distance / km'),\n",
    "    y=alt.Y(\n",
    "        'heart', #title='Heart rate / bpm', titleColor='#1b9e77'),\n",
    "         axis=alt.Axis(title='Heart rate / bpm', titleColor='#1b9e77'),\n",
    "    ),\n",
    "    color=alt.value('#1b9e77'),\n",
    ")\n",
    "chart = alt.layer(\n",
    "    area1,\n",
    "    line2,\n",
    "    width=WIDTH,\n",
    "    height=HEIGHT,\n",
    ").resolve_scale(y='independent')\n",
    "\n",
    "chart.title = 'Elevation & heart rate profile'\n",
    "\n",
    "\n",
    "\n",
    "the_map = create_folium_map(tiles='openstreetmap')\n",
    "add_segment_to_map(the_map, segment, color_by='hr-zone-float',\n",
    "                   cmap='viridis', line_options=line_options)\n",
    "\n",
    "\n",
    "chart_dict = json.loads(chart.to_json())\n",
    "popup = folium.Popup(max_width=WIDTH+100, show=True)\n",
    "chart_vega = folium.features.VegaLite(chart_dict, width=WIDTH+100, height=HEIGHT+50)\n",
    "chart_vega.add_to(popup)\n",
    "marker = folium.Marker(\n",
    "    location=segment['latlon'][idx],\n",
    "    popup=popup,\n",
    "    icon=folium.Icon(icon='star'),\n",
    ")\n",
    "marker.add_to(the_map)\n",
    "the_map"
   ]
  }
 ],
 "metadata": {
  "kernelspec": {
   "display_name": "Python 3",
   "language": "python",
   "name": "python3"
  },
  "language_info": {
   "codemirror_mode": {
    "name": "ipython",
    "version": 3
   },
   "file_extension": ".py",
   "mimetype": "text/x-python",
   "name": "python",
   "nbconvert_exporter": "python",
   "pygments_lexer": "ipython3",
   "version": "3.9.2"
  }
 },
 "nbformat": 4,
 "nbformat_minor": 4
}
