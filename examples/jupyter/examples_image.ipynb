{
 "cells": [
  {
   "cell_type": "markdown",
   "metadata": {},
   "source": [
    "# Adding some images as popups to a map\n",
    "This example will add some images taken during an activity\n",
    "as popups in the map."
   ]
  },
  {
   "cell_type": "code",
   "execution_count": null,
   "metadata": {},
   "outputs": [],
   "source": [
    "from gpxplotter import create_folium_map, read_gpx_file, add_segment_to_map\n",
    "import folium\n",
    "\n",
    "line_options = {\"weight\": 8}\n",
    "\n",
    "the_map = create_folium_map(tiles=\"kartverket_topo4\")\n",
    "for track in read_gpx_file(\"example3.gpx\"):\n",
    "    for i, segment in enumerate(track[\"segments\"]):\n",
    "        add_segment_to_map(\n",
    "            the_map,\n",
    "            segment,\n",
    "            color_by=\"hr-zone-float\",\n",
    "            cmap=\"viridis\",\n",
    "            line_options=line_options,\n",
    "        )\n",
    "\n",
    "# To display the map in a Jupyter notebook:\n",
    "the_map"
   ]
  },
  {
   "cell_type": "markdown",
   "metadata": {},
   "source": [
    "First, attempt to read location information from the images:"
   ]
  },
  {
   "cell_type": "code",
   "execution_count": null,
   "metadata": {},
   "outputs": [],
   "source": [
    "import PIL\n",
    "from PIL.ExifTags import TAGS, GPSTAGS\n",
    "import datetime\n",
    "\n",
    "\n",
    "# Create a method to get coordinates from an image:\n",
    "def get_lat_lon(imagefile):\n",
    "    image = PIL.Image.open(imagefile)\n",
    "    exif = image.getexif()\n",
    "    exif_info = {TAGS.get(key, key): val for key, val in exif.items()}\n",
    "    # Get the GPSInfo:\n",
    "    for key, value in TAGS.items():\n",
    "        if value == \"GPSInfo\":\n",
    "            exif_info[value] = exif.get_ifd(key)\n",
    "            break\n",
    "    gps_info = {}\n",
    "    for key, val in exif_info[\"GPSInfo\"].items():\n",
    "        gps_info[GPSTAGS.get(key, key)] = val\n",
    "    # Convert to decimal latitude/longitude:\n",
    "    deg, minutes, seconds = gps_info[\"GPSLatitude\"]\n",
    "    latitude = deg + minutes / 60.0 + seconds / 3600.0\n",
    "    if \"GPSLatitudeRef\" == \"S\":\n",
    "        latitude *= -1\n",
    "    deg, minutes, seconds = gps_info[\"GPSLongitude\"]\n",
    "    longitude = deg + minutes / 60.0 + seconds / 3600.0\n",
    "    if \"GPSLongitudeRef\" == \"W\":\n",
    "        longitude *= -1\n",
    "    # Turn time into datetime:\n",
    "    time = datetime.datetime.strptime(\n",
    "        exif_info[\"DateTime\"], \"%Y:%m:%d %H:%M:%S\"\n",
    "    )\n",
    "    return latitude, longitude, time"
   ]
  },
  {
   "cell_type": "code",
   "execution_count": null,
   "metadata": {},
   "outputs": [],
   "source": [
    "info = {}\n",
    "for filename in (\"image1.jpg\", \"image2.jpg\", \"image3.jpg\"):\n",
    "    lat, lon, time = get_lat_lon(filename)\n",
    "    info[filename] = {\"latlon\": (lat, lon), \"time\": time}"
   ]
  },
  {
   "cell_type": "code",
   "execution_count": null,
   "metadata": {},
   "outputs": [],
   "source": [
    "# Add, markers to the gps-locations we read from the images\n",
    "for key, val in info.items():\n",
    "    marker = folium.Marker(\n",
    "        location=val[\"latlon\"],\n",
    "        tooltip=f\"You took a picture here? {key} says so...\",\n",
    "        icon=folium.Icon(icon=\"camera\", color=\"red\"),\n",
    "    )\n",
    "    marker.add_to(the_map)\n",
    "boundary = the_map.get_bounds()\n",
    "the_map.fit_bounds(boundary, padding=(3, 3))\n",
    "the_map"
   ]
  },
  {
   "cell_type": "markdown",
   "metadata": {},
   "source": [
    "As can be seen in the map above, the GPS locations in the image files may be a bit off.\n",
    "Let's try to see if we can use the time information to place them better.\n",
    "\n",
    "**Note**: The best approach is probably to make your GPS devise show its\n",
    "current time, and then take a photo of it with your phone. This can\n",
    "be used to \"align\" time-stamps from the two devices better."
   ]
  },
  {
   "cell_type": "code",
   "execution_count": null,
   "metadata": {},
   "outputs": [],
   "source": [
    "# Time read from the images does not contain time zone information, so it's\n",
    "# difficult to compare with the timestamps from the GPS device.\n",
    "# Here, I remember when I started so I will use that.\n",
    "time_offset = datetime.timedelta(seconds=2 * 3600)  # time_offset is 2 hours\n",
    "import numpy as np\n",
    "\n",
    "for key, val in info.items():\n",
    "    time = val[\"time\"]\n",
    "    times = [i.replace(tzinfo=None) + time_offset for i in segment[\"time\"]]\n",
    "    time_diff = []\n",
    "    for i in times:\n",
    "        if i < time:\n",
    "            time_diff.append((time - i).seconds)\n",
    "        else:\n",
    "            time_diff.append((i - time).seconds)\n",
    "    minidx = np.argmin(time_diff)\n",
    "    info[key][\"latlon_time\"] = segment[\"latlon\"][minidx]"
   ]
  },
  {
   "cell_type": "code",
   "execution_count": null,
   "metadata": {},
   "outputs": [],
   "source": [
    "# Mark the gps-locations we interpolated using time:\n",
    "the_map = create_folium_map(\n",
    "    tiles=\"kartverket_topo4\",\n",
    "    zoom_start=18,\n",
    "    location=info[\"image1.jpg\"][\"latlon_time\"],\n",
    ")\n",
    "add_segment_to_map(\n",
    "    the_map,\n",
    "    segment,\n",
    "    line_options=line_options,\n",
    "    fit_bounds=False,\n",
    "    color_by=\"hr-zone-float\",\n",
    ")\n",
    "colors = [\"blue\", \"red\", \"green\"]\n",
    "for i, (key, val) in enumerate(info.items()):\n",
    "    marker = folium.Marker(\n",
    "        location=val[\"latlon_time\"],\n",
    "        popup=f'<img alt=\"{key}\" src=\"{key}\", width=200/>',\n",
    "        icon=folium.Icon(icon=\"camera\", color=colors[i]),\n",
    "    )\n",
    "    marker.add_to(the_map)\n",
    "the_map"
   ]
  }
 ],
 "metadata": {
  "kernelspec": {
   "display_name": "Python 3 (ipykernel)",
   "language": "python",
   "name": "python3"
  },
  "language_info": {
   "codemirror_mode": {
    "name": "ipython",
    "version": 3
   },
   "file_extension": ".py",
   "mimetype": "text/x-python",
   "name": "python",
   "nbconvert_exporter": "python",
   "pygments_lexer": "ipython3",
   "version": "3.10.6"
  }
 },
 "nbformat": 4,
 "nbformat_minor": 4
}
