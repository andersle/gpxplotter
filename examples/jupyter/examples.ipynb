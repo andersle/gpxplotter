{
 "cells": [
  {
   "cell_type": "markdown",
   "metadata": {},
   "source": [
    "# gpxplotter examples\n",
    "This notebook contains a few examples, showing the basic usage of gpxplotter."
   ]
  },
  {
   "cell_type": "code",
   "execution_count": null,
   "metadata": {},
   "outputs": [],
   "source": [
    "from matplotlib import pyplot as plt\n",
    "import seaborn as sns\n",
    "from gpxplotter import read_gpx_file, create_folium_map, add_segment_to_map\n",
    "from gpxplotter import plot_filled, plot_line\n",
    "\n",
    "\n",
    "sns.set_context(\"notebook\")"
   ]
  },
  {
   "cell_type": "code",
   "execution_count": null,
   "metadata": {},
   "outputs": [],
   "source": [
    "for track in read_gpx_file(\"example1.gpx\"):\n",
    "    for i, segment in enumerate(track[\"segments\"]):\n",
    "        # Plot elevation as function of distance, color by heart rate:\n",
    "        fig, ax = plot_filled(\n",
    "            track, segment, xvar=\"Distance / km\", yvar=\"elevation\", zvar=\"hr\"\n",
    "        )\n",
    "        sns.despine(fig=fig)\n",
    "        break  # Stop after the first segment"
   ]
  },
  {
   "cell_type": "code",
   "execution_count": null,
   "metadata": {},
   "outputs": [],
   "source": [
    "# Print out available keys for plotting\n",
    "print(segment.keys())\n",
    "print(f\"Mean heart rate: {segment['average-hr']}\")\n",
    "print(f\"Elevation gain: {segment['elevation-up']}\")\n",
    "print(f\"Elevation drop: {segment['elevation-down']}\")"
   ]
  },
  {
   "cell_type": "code",
   "execution_count": null,
   "metadata": {},
   "outputs": [],
   "source": [
    "# Plot elevation as function of time, color by heart rate zone:\n",
    "fig, ax = plot_filled(\n",
    "    track,\n",
    "    segment,\n",
    "    xvar=\"elapsed-time\",\n",
    "    yvar=\"elevation\",\n",
    "    zvar=\"hr-zone-float\",\n",
    "    color=\"k\",\n",
    ")\n",
    "sns.despine(fig=fig)"
   ]
  },
  {
   "cell_type": "code",
   "execution_count": null,
   "metadata": {},
   "outputs": [],
   "source": [
    "# Plot elevation as function of time, color by velocity\n",
    "fig, ax = plot_line(\n",
    "    track,\n",
    "    segment,\n",
    "    xvar=\"time\",\n",
    "    yvar=\"elevation\",\n",
    "    zvar=\"velocity-level\",\n",
    "    lw=5,\n",
    "    cmap=\"vlag\",\n",
    ")\n",
    "sns.despine(fig=fig)"
   ]
  },
  {
   "cell_type": "code",
   "execution_count": null,
   "metadata": {},
   "outputs": [],
   "source": [
    "# Create a map, color the line by the heart rate:\n",
    "map1 = create_folium_map()\n",
    "add_segment_to_map(map1, segment, color_by=\"hr\")\n",
    "map1"
   ]
  },
  {
   "cell_type": "code",
   "execution_count": null,
   "metadata": {},
   "outputs": [],
   "source": [
    "# Just add a track:\n",
    "line_options = {\"color\": \"red\", \"weight\": 8, \"opacity\": 0.6}\n",
    "map2 = create_folium_map()\n",
    "add_segment_to_map(map2, segment, line_options=line_options)\n",
    "map2"
   ]
  },
  {
   "cell_type": "code",
   "execution_count": null,
   "metadata": {},
   "outputs": [],
   "source": [
    "# Add some folium markers to the map:\n",
    "import folium\n",
    "import numpy as np\n",
    "\n",
    "map3 = create_folium_map()\n",
    "# Add segment, color by elevation:\n",
    "add_segment_to_map(map3, segment, color_by=\"elevation\")\n",
    "# Add marker at the highest elevation:\n",
    "idx = np.argmax(segment[\"elevation\"])\n",
    "high = folium.Marker(\n",
    "    location=segment[\"latlon\"][idx],\n",
    "    tooltip=\"Highest elevation\",\n",
    "    popup=folium.Popup(f'{segment[\"elevation\"][idx]:g} m', max_width=250),\n",
    "    icon=folium.Icon(icon=\"star\", color=\"blue\"),\n",
    ")\n",
    "high.add_to(map3)\n",
    "# Add marker at highest heart rate:\n",
    "idx = np.argmax(segment[\"heart rate\"])\n",
    "high_hr = folium.Marker(\n",
    "    location=segment[\"latlon\"][idx],\n",
    "    tooltip=\"Highest heart rate\",\n",
    "    popup=folium.Popup(f'{segment[\"heart rate\"][idx]:g} bpm', max_width=250),\n",
    "    icon=folium.Icon(icon=\"heart\", color=\"red\"),\n",
    ")\n",
    "high_hr.add_to(map3)\n",
    "\n",
    "map3"
   ]
  },
  {
   "cell_type": "code",
   "execution_count": null,
   "metadata": {},
   "outputs": [],
   "source": [
    "map4 = create_folium_map()\n",
    "add_segment_to_map(map4, segment, color_by=\"Velocity / km/h\")\n",
    "map4"
   ]
  },
  {
   "cell_type": "code",
   "execution_count": null,
   "metadata": {},
   "outputs": [],
   "source": [
    "map5 = create_folium_map()\n",
    "add_segment_to_map(map5, segment, color_by=\"velocity-level\")\n",
    "map5"
   ]
  }
 ],
 "metadata": {
  "kernelspec": {
   "display_name": "Python 3 (ipykernel)",
   "language": "python",
   "name": "python3"
  },
  "language_info": {
   "codemirror_mode": {
    "name": "ipython",
    "version": 3
   },
   "file_extension": ".py",
   "mimetype": "text/x-python",
   "name": "python",
   "nbconvert_exporter": "python",
   "pygments_lexer": "ipython3",
   "version": "3.10.6"
  }
 },
 "nbformat": 4,
 "nbformat_minor": 4
}
